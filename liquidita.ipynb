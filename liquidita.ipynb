{
 "cells": [
  {
   "cell_type": "markdown",
   "metadata": {},
   "source": [
    "# Calcolo rendimenti liquidità investita in ETF Monetari\n",
    "- Assumiamo il tasso di rendimento come la media degli ultimi 90 giorni"
   ]
  },
  {
   "cell_type": "code",
   "execution_count": 36,
   "metadata": {},
   "outputs": [],
   "source": [
    "import yfinance as yf\n",
    "import pandas as pd\n",
    "from datetime import datetime, timedelta\n",
    "\n",
    "# Parametri investimento\n",
    "ticker=\"XEON.MI\"\n",
    "capitale = 20000\n",
    "costo_vendita = 5\n",
    "aliquota_fiscale = 0.125\n",
    "data_fine = \"2025-07-30\""
   ]
  },
  {
   "cell_type": "code",
   "execution_count": 37,
   "metadata": {},
   "outputs": [
    {
     "name": "stderr",
     "output_type": "stream",
     "text": [
      "[*********************100%***********************]  1 of 1 completed"
     ]
    },
    {
     "name": "stdout",
     "output_type": "stream",
     "text": [
      "\n",
      "Analisi investimento fino al 2025-07-30:\n",
      "Capitale investito: €20,000.00\n",
      "Rendimento annualizzato: 3.26%\n",
      "Rendimento periodo (7 mesi): 1.90%\n",
      "Rendimento netto totale: €327.46\n",
      "\n",
      "Dettaglio mensile:\n",
      "2025-01-29: Guadagno: €46.78, Capitale: €20,046.78\n",
      "2025-02-28: Guadagno: €46.78, Capitale: €20,093.56\n",
      "2025-03-30: Guadagno: €46.78, Capitale: €20,140.34\n",
      "2025-04-29: Guadagno: €46.78, Capitale: €20,187.12\n",
      "2025-05-29: Guadagno: €46.78, Capitale: €20,233.90\n",
      "2025-06-28: Guadagno: €46.78, Capitale: €20,280.68\n",
      "2025-07-28: Guadagno: €46.78, Capitale: €20,327.46\n"
     ]
    },
    {
     "name": "stderr",
     "output_type": "stream",
     "text": [
      "\n"
     ]
    }
   ],
   "source": [
    "# Download dati\n",
    "end_date = datetime.now()\n",
    "start_date = end_date - timedelta(days=90)\n",
    "df = yf.download(ticker, start=start_date, end=end_date)\n",
    "\n",
    "# Calcolo rendimenti giornalieri\n",
    "df['Returns'] = df['Close'].pct_change()\n",
    "rendimento_medio_giornaliero = df['Returns'].mean()\n",
    "\n",
    "# Annualizzazione\n",
    "rendimento_annuo = rendimento_medio_giornaliero * 252\n",
    "\n",
    "# Calcolo periodo\n",
    "end_date = datetime.strptime(data_fine, '%Y-%m-%d')\n",
    "giorni_totali = (end_date - datetime.now()).days\n",
    "mesi = giorni_totali // 30\n",
    "\n",
    "# Calcolo rendimenti\n",
    "rendimento_periodo = (rendimento_annuo / 12) * mesi\n",
    "rendimento_lordo = capitale * rendimento_periodo\n",
    "tasse = rendimento_lordo * aliquota_fiscale\n",
    "rendimento_netto = rendimento_lordo - tasse - costo_vendita\n",
    "\n",
    "# Calcolo rendimento mensile\n",
    "rendimento_mensile = rendimento_netto / mesi\n",
    "\n",
    "# Output risultati\n",
    "print(f\"\\nAnalisi investimento fino al {data_fine}:\")\n",
    "print(f\"Capitale investito: €{capitale:,.2f}\")\n",
    "print(f\"Rendimento annualizzato: {rendimento_annuo*100:.2f}%\")\n",
    "print(f\"Rendimento periodo ({mesi} mesi): {rendimento_periodo*100:.2f}%\")\n",
    "print(f\"Rendimento netto totale: €{rendimento_netto:,.2f}\")\n",
    "\n",
    "print(f\"\\nDettaglio mensile:\")\n",
    "capitale_corrente = capitale\n",
    "for mese in range(1, mesi + 1):\n",
    "    guadagno_mensile = rendimento_mensile\n",
    "    capitale_corrente += guadagno_mensile\n",
    "    data_mese = datetime.now() + timedelta(days=30*mese)\n",
    "    print(f\"{data_mese.strftime('%Y-%m-%d')}: Guadagno: €{guadagno_mensile:,.2f}, Capitale: €{capitale_corrente:,.2f}\")"
   ]
  },
  {
   "cell_type": "code",
   "execution_count": null,
   "metadata": {},
   "outputs": [],
   "source": []
  }
 ],
 "metadata": {
  "kernelspec": {
   "display_name": "fondazione",
   "language": "python",
   "name": "python3"
  },
  "language_info": {
   "codemirror_mode": {
    "name": "ipython",
    "version": 3
   },
   "file_extension": ".py",
   "mimetype": "text/x-python",
   "name": "python",
   "nbconvert_exporter": "python",
   "pygments_lexer": "ipython3",
   "version": "3.10.13"
  }
 },
 "nbformat": 4,
 "nbformat_minor": 2
}
